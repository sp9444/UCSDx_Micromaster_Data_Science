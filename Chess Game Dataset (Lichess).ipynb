{
 "cells": [
  {
   "cell_type": "code",
   "execution_count": 2,
   "id": "a97cf091-79dc-4da2-aff1-a1daf9bc86c5",
   "metadata": {},
   "outputs": [],
   "source": [
    "import numpy as np\n",
    "import pandas as pd\n",
    "import matplotlib.pyplot as plt \n",
    "import re\n",
    "from sklearn.metrics import confusion_matrix, ConfusionMatrixDisplay, accuracy_score\n",
    "from sklearn.model_selection import train_test_split\n",
    "from sklearn.preprocessing import LabelEncoder\n",
    "from xgboost import XGBClassifier"
   ]
  },
  {
   "cell_type": "code",
   "execution_count": 3,
   "id": "e7421428-be1a-439c-82a1-244b2b7fae3e",
   "metadata": {},
   "outputs": [
    {
     "data": {
      "text/html": [
       "<div>\n",
       "<style scoped>\n",
       "    .dataframe tbody tr th:only-of-type {\n",
       "        vertical-align: middle;\n",
       "    }\n",
       "\n",
       "    .dataframe tbody tr th {\n",
       "        vertical-align: top;\n",
       "    }\n",
       "\n",
       "    .dataframe thead th {\n",
       "        text-align: right;\n",
       "    }\n",
       "</style>\n",
       "<table border=\"1\" class=\"dataframe\">\n",
       "  <thead>\n",
       "    <tr style=\"text-align: right;\">\n",
       "      <th></th>\n",
       "      <th>id</th>\n",
       "      <th>rated</th>\n",
       "      <th>created_at</th>\n",
       "      <th>last_move_at</th>\n",
       "      <th>turns</th>\n",
       "      <th>victory_status</th>\n",
       "      <th>winner</th>\n",
       "      <th>increment_code</th>\n",
       "      <th>white_id</th>\n",
       "      <th>white_rating</th>\n",
       "      <th>black_id</th>\n",
       "      <th>black_rating</th>\n",
       "      <th>moves</th>\n",
       "      <th>opening_eco</th>\n",
       "      <th>opening_name</th>\n",
       "      <th>opening_ply</th>\n",
       "    </tr>\n",
       "  </thead>\n",
       "  <tbody>\n",
       "    <tr>\n",
       "      <th>0</th>\n",
       "      <td>TZJHLljE</td>\n",
       "      <td>False</td>\n",
       "      <td>1.504210e+12</td>\n",
       "      <td>1.504210e+12</td>\n",
       "      <td>13</td>\n",
       "      <td>outoftime</td>\n",
       "      <td>white</td>\n",
       "      <td>15+2</td>\n",
       "      <td>bourgris</td>\n",
       "      <td>1500</td>\n",
       "      <td>a-00</td>\n",
       "      <td>1191</td>\n",
       "      <td>d4 d5 c4 c6 cxd5 e6 dxe6 fxe6 Nf3 Bb4+ Nc3 Ba5...</td>\n",
       "      <td>D10</td>\n",
       "      <td>Slav Defense: Exchange Variation</td>\n",
       "      <td>5</td>\n",
       "    </tr>\n",
       "    <tr>\n",
       "      <th>1</th>\n",
       "      <td>l1NXvwaE</td>\n",
       "      <td>True</td>\n",
       "      <td>1.504130e+12</td>\n",
       "      <td>1.504130e+12</td>\n",
       "      <td>16</td>\n",
       "      <td>resign</td>\n",
       "      <td>black</td>\n",
       "      <td>5+10</td>\n",
       "      <td>a-00</td>\n",
       "      <td>1322</td>\n",
       "      <td>skinnerua</td>\n",
       "      <td>1261</td>\n",
       "      <td>d4 Nc6 e4 e5 f4 f6 dxe5 fxe5 fxe5 Nxe5 Qd4 Nc6...</td>\n",
       "      <td>B00</td>\n",
       "      <td>Nimzowitsch Defense: Kennedy Variation</td>\n",
       "      <td>4</td>\n",
       "    </tr>\n",
       "    <tr>\n",
       "      <th>2</th>\n",
       "      <td>mIICvQHh</td>\n",
       "      <td>True</td>\n",
       "      <td>1.504130e+12</td>\n",
       "      <td>1.504130e+12</td>\n",
       "      <td>61</td>\n",
       "      <td>mate</td>\n",
       "      <td>white</td>\n",
       "      <td>5+10</td>\n",
       "      <td>ischia</td>\n",
       "      <td>1496</td>\n",
       "      <td>a-00</td>\n",
       "      <td>1500</td>\n",
       "      <td>e4 e5 d3 d6 Be3 c6 Be2 b5 Nd2 a5 a4 c5 axb5 Nc...</td>\n",
       "      <td>C20</td>\n",
       "      <td>King's Pawn Game: Leonardis Variation</td>\n",
       "      <td>3</td>\n",
       "    </tr>\n",
       "    <tr>\n",
       "      <th>3</th>\n",
       "      <td>kWKvrqYL</td>\n",
       "      <td>True</td>\n",
       "      <td>1.504110e+12</td>\n",
       "      <td>1.504110e+12</td>\n",
       "      <td>61</td>\n",
       "      <td>mate</td>\n",
       "      <td>white</td>\n",
       "      <td>20+0</td>\n",
       "      <td>daniamurashov</td>\n",
       "      <td>1439</td>\n",
       "      <td>adivanov2009</td>\n",
       "      <td>1454</td>\n",
       "      <td>d4 d5 Nf3 Bf5 Nc3 Nf6 Bf4 Ng4 e3 Nc6 Be2 Qd7 O...</td>\n",
       "      <td>D02</td>\n",
       "      <td>Queen's Pawn Game: Zukertort Variation</td>\n",
       "      <td>3</td>\n",
       "    </tr>\n",
       "    <tr>\n",
       "      <th>4</th>\n",
       "      <td>9tXo1AUZ</td>\n",
       "      <td>True</td>\n",
       "      <td>1.504030e+12</td>\n",
       "      <td>1.504030e+12</td>\n",
       "      <td>95</td>\n",
       "      <td>mate</td>\n",
       "      <td>white</td>\n",
       "      <td>30+3</td>\n",
       "      <td>nik221107</td>\n",
       "      <td>1523</td>\n",
       "      <td>adivanov2009</td>\n",
       "      <td>1469</td>\n",
       "      <td>e4 e5 Nf3 d6 d4 Nc6 d5 Nb4 a3 Na6 Nc3 Be7 b4 N...</td>\n",
       "      <td>C41</td>\n",
       "      <td>Philidor Defense</td>\n",
       "      <td>5</td>\n",
       "    </tr>\n",
       "  </tbody>\n",
       "</table>\n",
       "</div>"
      ],
      "text/plain": [
       "         id  rated    created_at  last_move_at  turns victory_status winner  \\\n",
       "0  TZJHLljE  False  1.504210e+12  1.504210e+12     13      outoftime  white   \n",
       "1  l1NXvwaE   True  1.504130e+12  1.504130e+12     16         resign  black   \n",
       "2  mIICvQHh   True  1.504130e+12  1.504130e+12     61           mate  white   \n",
       "3  kWKvrqYL   True  1.504110e+12  1.504110e+12     61           mate  white   \n",
       "4  9tXo1AUZ   True  1.504030e+12  1.504030e+12     95           mate  white   \n",
       "\n",
       "  increment_code       white_id  white_rating      black_id  black_rating  \\\n",
       "0           15+2       bourgris          1500          a-00          1191   \n",
       "1           5+10           a-00          1322     skinnerua          1261   \n",
       "2           5+10         ischia          1496          a-00          1500   \n",
       "3           20+0  daniamurashov          1439  adivanov2009          1454   \n",
       "4           30+3      nik221107          1523  adivanov2009          1469   \n",
       "\n",
       "                                               moves opening_eco  \\\n",
       "0  d4 d5 c4 c6 cxd5 e6 dxe6 fxe6 Nf3 Bb4+ Nc3 Ba5...         D10   \n",
       "1  d4 Nc6 e4 e5 f4 f6 dxe5 fxe5 fxe5 Nxe5 Qd4 Nc6...         B00   \n",
       "2  e4 e5 d3 d6 Be3 c6 Be2 b5 Nd2 a5 a4 c5 axb5 Nc...         C20   \n",
       "3  d4 d5 Nf3 Bf5 Nc3 Nf6 Bf4 Ng4 e3 Nc6 Be2 Qd7 O...         D02   \n",
       "4  e4 e5 Nf3 d6 d4 Nc6 d5 Nb4 a3 Na6 Nc3 Be7 b4 N...         C41   \n",
       "\n",
       "                             opening_name  opening_ply  \n",
       "0        Slav Defense: Exchange Variation            5  \n",
       "1  Nimzowitsch Defense: Kennedy Variation            4  \n",
       "2   King's Pawn Game: Leonardis Variation            3  \n",
       "3  Queen's Pawn Game: Zukertort Variation            3  \n",
       "4                        Philidor Defense            5  "
      ]
     },
     "execution_count": 3,
     "metadata": {},
     "output_type": "execute_result"
    }
   ],
   "source": [
    "df = pd.read_csv('games.csv')\n",
    "df.head()"
   ]
  },
  {
   "cell_type": "markdown",
   "id": "ddc67a66-98fe-470b-9dcc-2c2f25873b43",
   "metadata": {},
   "source": [
    "# Data Preprocessing"
   ]
  },
  {
   "cell_type": "code",
   "execution_count": 4,
   "id": "adbc24dd-68f7-4c03-b198-0f0cdc9f4a86",
   "metadata": {},
   "outputs": [
    {
     "data": {
      "text/plain": [
       "id                False\n",
       "rated             False\n",
       "created_at        False\n",
       "last_move_at      False\n",
       "turns             False\n",
       "victory_status    False\n",
       "winner            False\n",
       "increment_code    False\n",
       "white_id          False\n",
       "white_rating      False\n",
       "black_id          False\n",
       "black_rating      False\n",
       "moves             False\n",
       "opening_eco       False\n",
       "opening_name      False\n",
       "opening_ply       False\n",
       "dtype: bool"
      ]
     },
     "execution_count": 4,
     "metadata": {},
     "output_type": "execute_result"
    }
   ],
   "source": [
    "df.isna().any()"
   ]
  },
  {
   "cell_type": "markdown",
   "id": "03f28390-b3cb-4c8c-864f-bbf1b304a271",
   "metadata": {},
   "source": [
    "## Openings"
   ]
  },
  {
   "cell_type": "code",
   "execution_count": 5,
   "id": "1bacc907-e67c-4687-b085-45049ead1ecc",
   "metadata": {},
   "outputs": [
    {
     "data": {
      "text/plain": [
       "1477"
      ]
     },
     "execution_count": 5,
     "metadata": {},
     "output_type": "execute_result"
    }
   ],
   "source": [
    "df['opening_name'].nunique()"
   ]
  },
  {
   "cell_type": "code",
   "execution_count": 6,
   "id": "ddeadaf1-9626-4456-989a-1da9680db505",
   "metadata": {},
   "outputs": [
    {
     "data": {
      "text/plain": [
       "opening_name\n",
       "Van't Kruijs Opening                             368\n",
       "Sicilian Defense                                 358\n",
       "Sicilian Defense: Bowdler Attack                 296\n",
       "Scotch Game                                      271\n",
       "French Defense: Knight Variation                 271\n",
       "Scandinavian Defense: Mieses-Kotroc Variation    259\n",
       "Queen's Pawn Game: Mason Attack                  232\n",
       "Queen's Pawn Game: Chigorin Variation            229\n",
       "Scandinavian Defense                             223\n",
       "Horwitz Defense                                  209\n",
       "Caro-Kann Defense                                199\n",
       "Philidor Defense #3                              198\n",
       "Philidor Defense #2                              193\n",
       "Indian Game                                      181\n",
       "Italian Game: Anti-Fried Liver Defense           180\n",
       "Four Knights Game: Italian Variation             176\n",
       "Modern Defense                                   174\n",
       "Owen Defense                                     168\n",
       "King's Pawn Game: Wayward Queen Attack           164\n",
       "Sicilian Defense: Old Sicilian                   159\n",
       "Name: count, dtype: int64"
      ]
     },
     "execution_count": 6,
     "metadata": {},
     "output_type": "execute_result"
    }
   ],
   "source": [
    "df['opening_name'].value_counts().head(20)"
   ]
  },
  {
   "cell_type": "markdown",
   "id": "911cdaec-222b-4b46-8aef-aa224fea8298",
   "metadata": {},
   "source": [
    "We can see that some openings contains #2 or #3 in their names. But it doesn't exist officially in Chess so we have to clean it."
   ]
  },
  {
   "cell_type": "code",
   "execution_count": 7,
   "id": "0d2b1764-814e-49e6-97de-e503e817797d",
   "metadata": {},
   "outputs": [
    {
     "data": {
      "text/plain": [
       "opening_name\n",
       "Philidor Defense                                 554\n",
       "Sicilian Defense                                 417\n",
       "Van't Kruijs Opening                             368\n",
       "Queen's Pawn Game                                316\n",
       "Sicilian Defense: Bowdler Attack                 296\n",
       "Scotch Game                                      271\n",
       "French Defense: Knight Variation                 271\n",
       "Scandinavian Defense: Mieses-Kotroc Variation    259\n",
       "Queen's Pawn Game: Mason Attack                  232\n",
       "Queen's Pawn Game: Chigorin Variation            229\n",
       "Scandinavian Defense                             223\n",
       "Pirc Defense                                     212\n",
       "Horwitz Defense                                  209\n",
       "Caro-Kann Defense                                203\n",
       "Indian Game                                      181\n",
       "Italian Game: Anti-Fried Liver Defense           180\n",
       "Four Knights Game: Italian Variation             176\n",
       "Modern Defense                                   174\n",
       "Owen Defense                                     168\n",
       "King's Pawn Game: Wayward Queen Attack           164\n",
       "Name: count, dtype: int64"
      ]
     },
     "execution_count": 7,
     "metadata": {},
     "output_type": "execute_result"
    }
   ],
   "source": [
    "def clean_opening_name(name):\n",
    "    return re.sub(r'\\s+#\\d+$', '', name.strip())\n",
    "\n",
    "df['opening_name'] = df['opening_name'].apply(clean_opening_name)\n",
    "\n",
    "df['opening_name'].value_counts().head(20)"
   ]
  },
  {
   "cell_type": "code",
   "execution_count": 8,
   "id": "64a1d1fe-afe0-438e-a947-ab47e4c5e7e0",
   "metadata": {},
   "outputs": [
    {
     "data": {
      "text/plain": [
       "1403"
      ]
     },
     "execution_count": 8,
     "metadata": {},
     "output_type": "execute_result"
    }
   ],
   "source": [
    "df['opening_name'].nunique()"
   ]
  },
  {
   "cell_type": "markdown",
   "id": "0aeb90a3-3df4-475c-9ba5-4352e126656d",
   "metadata": {},
   "source": [
    "### Display the top 10 openings with the highest white and black win rate"
   ]
  },
  {
   "cell_type": "markdown",
   "id": "7417dc3c-6358-4858-9de5-79b2a1468482",
   "metadata": {},
   "source": [
    "White win rate"
   ]
  },
  {
   "cell_type": "code",
   "execution_count": 9,
   "id": "bfff51e8-a2c5-4bed-98f8-f17f4ea7bd87",
   "metadata": {},
   "outputs": [
    {
     "name": "stdout",
     "output_type": "stream",
     "text": [
      "opening_name\n",
      "Nimzowitsch Defense: Scandinavian Variation |  Advance Variation         0.826087\n",
      "Russian Game: Damiano Variation                                          0.800000\n",
      "English Opening: Agincourt Defense                                       0.785714\n",
      "Ruy Lopez: Exchange Variation |  Lutikov Variation                       0.740741\n",
      "Zukertort Opening: Queen's Gambit Invitation                             0.740000\n",
      "King's Gambit Accepted |  MacLeod Defense                                0.730769\n",
      "English Opening: King's English Variation |  Reversed Closed Sicilian    0.714286\n",
      "Ruy Lopez: Morphy Defense |  Caro Variation                              0.710526\n",
      "King's Pawn Game: Busch-Gass Gambit                                      0.709091\n",
      "Ruy Lopez: Berlin Defense |  Improved Steinitz Defense                   0.708333\n",
      "Name: white_win, dtype: float64\n"
     ]
    }
   ],
   "source": [
    "df_win = df[df['winner'].isin(['white', 'black'])].copy()\n",
    "\n",
    "df_win['white_win'] = (df_win['winner'] == 'white').astype(int)\n",
    "opening_counts = df_win['opening_name'].value_counts()\n",
    "\n",
    "# Only openings with more than 20 games\n",
    "valid_openings = opening_counts[opening_counts >= 20].index\n",
    "df_filtered = df_win[df_win['opening_name'].isin(valid_openings)]\n",
    "white_winrate = df_filtered.groupby('opening_name')['white_win'].mean()\n",
    "white_winrate_sorted = white_winrate.sort_values(ascending=False)\n",
    "print(white_winrate_sorted.head(10))\n"
   ]
  },
  {
   "cell_type": "markdown",
   "id": "3f90aebf-b578-4d43-a2fc-18cfdbb8c9e3",
   "metadata": {},
   "source": [
    "Black win rate"
   ]
  },
  {
   "cell_type": "code",
   "execution_count": 10,
   "id": "152abc99-a2ba-42d9-9194-9e27bd91b31e",
   "metadata": {},
   "outputs": [
    {
     "name": "stdout",
     "output_type": "stream",
     "text": [
      "opening_name\n",
      "Kadas Opening                                       0.777778\n",
      "Grob Opening                                        0.777778\n",
      "King's Pawn Game                                    0.740741\n",
      "Sicilian Defense: Paulsen Variation                 0.720000\n",
      "Sicilian Defense: Modern Variations |  Main Line    0.700000\n",
      "Mieses Opening: Reversed Rat                        0.692308\n",
      "French Defense: King's Indian Attack                0.687500\n",
      "King's Pawn Game: Macleod Attack                    0.666667\n",
      "Italian Game: Schilling-Kostic Gambit               0.657895\n",
      "King's Pawn Game: King's Head Opening               0.655172\n",
      "Name: black_win, dtype: float64\n"
     ]
    }
   ],
   "source": [
    "df_win['black_win'] = (df_win['winner'] == 'black').astype(int)\n",
    "opening_counts = df_win['opening_name'].value_counts()\n",
    "\n",
    "# Only openings with more than 20 games\n",
    "valid_openings = opening_counts[opening_counts >= 20].index\n",
    "df_filtered = df_win[df_win['opening_name'].isin(valid_openings)]\n",
    "black_winrate = df_filtered.groupby('opening_name')['black_win'].mean()\n",
    "black_winrate_sorted = black_winrate.sort_values(ascending=False)\n",
    "print(black_winrate_sorted.head(10))"
   ]
  },
  {
   "cell_type": "markdown",
   "id": "dfa8938f-6a03-4a62-8946-e4551fc63f80",
   "metadata": {},
   "source": [
    "We can see that depending on the opening, either White or Black has a higher chance of winning."
   ]
  },
  {
   "cell_type": "markdown",
   "id": "cd90fb70-e9c8-4cd8-8b7e-e9bce4942628",
   "metadata": {},
   "source": [
    "## Elo Difference"
   ]
  },
  {
   "cell_type": "code",
   "execution_count": 11,
   "id": "4ab0392a-8b07-4c76-a246-3ecfe878b997",
   "metadata": {},
   "outputs": [
    {
     "data": {
      "image/png": "[encoded data removed]",
      "text/plain": [
       "<Figure size 1000x600 with 1 Axes>"
      ]
     },
     "metadata": {},
     "output_type": "display_data"
    }
   ],
   "source": [
    "bins = [-800, -600, -400, -200, 0, 200, 400, 600, 800]\n",
    "labels = bins[:-1]  # use lower bounds as labels\n",
    "\n",
    "df['elo_diff'] = df['white_rating'] - df['black_rating']\n",
    "df['elo_range'] = pd.cut(df['elo_diff'], bins=bins, labels=labels, include_lowest=True, right=False)\n",
    "\n",
    "# Calculate white win rate per ELO range\n",
    "white_win_rate = (\n",
    "    df[df['winner'] == 'white']\n",
    "    .groupby('elo_range', observed=True)\n",
    "    .size() / df.groupby('elo_range', observed=True).size()\n",
    ") * 100\n",
    "\n",
    "# Plotting\n",
    "plt.figure(figsize=(10, 6))\n",
    "white_win_rate.plot(marker='o', linestyle='-')\n",
    "plt.axhline(50, ls='--', color='gray')  # ligne à 50%\n",
    "plt.title('White Win Rate by ELO Difference')\n",
    "plt.xlabel('ELO Difference (White - Black)')\n",
    "plt.ylabel('White Win Rate (%)')\n",
    "plt.ylim(0, 100)\n",
    "plt.grid(True)\n",
    "plt.tight_layout()\n",
    "plt.show()"
   ]
  },
  {
   "cell_type": "markdown",
   "id": "4c628b57-8556-450f-989a-aca2ef733a15",
   "metadata": {},
   "source": [
    "# Machine Learning"
   ]
  },
  {
   "cell_type": "code",
   "execution_count": 12,
   "id": "5de0810d-81a1-4ac1-a3b7-84cd77efc6b2",
   "metadata": {},
   "outputs": [
    {
     "name": "stdout",
     "output_type": "stream",
     "text": [
      "Accuracy : 0.6596820809248555\n"
     ]
    }
   ],
   "source": [
    "df = df[df['winner'].isin(['white', 'black'])].copy()\n",
    "\n",
    "df['elo_diff'] = df['white_rating'] - df['black_rating']\n",
    "df['elo_diff_scaled'] = df['elo_diff'] / 100\n",
    "\n",
    "#We keep only the top 100 openings playing\n",
    "valid_openings = df['opening_name'].value_counts()\n",
    "valid_openings = valid_openings[valid_openings >= 100].index\n",
    "df = df[df['opening_name'].isin(valid_openings)].copy()\n",
    "\n",
    "openings = df['opening_name'].unique()\n",
    "opening_map = {name: i for i, name in enumerate(openings)}\n",
    "df['opening_encoded'] = df['opening_name'].map(opening_map)\n",
    "\n",
    "df['winner_encoded'] = df['winner'].map({'black': 0, 'white': 1})\n",
    "\n",
    "# Features\n",
    "X = df[['elo_diff_scaled', 'opening_encoded']]\n",
    "y = df['winner_encoded']\n",
    "\n",
    "# Split\n",
    "X_train, X_test, y_train, y_test = train_test_split(X, y, test_size=0.2, random_state=42, stratify=y)\n",
    "\n",
    "# Model\n",
    "model = XGBClassifier(\n",
    "    objective='binary:logistic',\n",
    "    eval_metric='logloss',\n",
    "    n_estimators=100,\n",
    "    learning_rate=0.1,\n",
    "    max_depth=6,\n",
    "    random_state=42,\n",
    "    verbosity=0  # pour éviter les logs de XGBoost pendant l'entraînement\n",
    ")\n",
    "\n",
    "model.fit(X_train, y_train)\n",
    "\n",
    "# Evaluation\n",
    "y_pred = model.predict(X_test)\n",
    "acc = accuracy_score(y_test, y_pred)\n",
    "print(f\"Accuracy : {acc}\")\n"
   ]
  },
  {
   "cell_type": "code",
   "execution_count": 13,
   "id": "45ddab0a-610e-4fed-8a56-64ce0a2a91ec",
   "metadata": {},
   "outputs": [
    {
     "data": {
      "text/plain": [
       "<Figure size 600x600 with 0 Axes>"
      ]
     },
     "metadata": {},
     "output_type": "display_data"
    },
    {
     "data": {
      "image/png": "[encoded data removed]",
      "text/plain": [
       "<Figure size 640x480 with 2 Axes>"
      ]
     },
     "metadata": {},
     "output_type": "display_data"
    }
   ],
   "source": [
    "# Confusion Matrix\n",
    "cm = confusion_matrix(y_test, y_pred)\n",
    "labels = ['black', 'white']\n",
    "disp = ConfusionMatrixDisplay(confusion_matrix=cm, display_labels=labels)\n",
    "plt.figure(figsize=(6, 6))\n",
    "disp.plot(cmap='Blues', values_format='d')\n",
    "plt.title(\"Confusion Matrix - XGBoost\")\n",
    "plt.grid(False)\n",
    "plt.tight_layout()\n",
    "plt.show()\n"
   ]
  },
  {
   "cell_type": "code",
   "execution_count": 14,
   "id": "7cf6bdae-22b6-4474-b2df-69367db980d0",
   "metadata": {},
   "outputs": [
    {
     "name": "stdout",
     "output_type": "stream",
     "text": [
      "Probability of WHITE winning: 33.87%\n",
      "Probability of BLACK winning: 66.13%\n",
      "→ Predicted winner: BLACK\n"
     ]
    }
   ],
   "source": [
    "# Example input\n",
    "white_rating = 2000\n",
    "black_rating = 1950\n",
    "opening_name = \"Hungarian Opening\"\n",
    "\n",
    "elo_diff_scaled = (white_rating - black_rating) / 100\n",
    "\n",
    "# Check if the opening is known\n",
    "if opening_name in opening_map:\n",
    "    opening_encoded = opening_map[opening_name]\n",
    "    features = np.array([[elo_diff_scaled, opening_encoded]])\n",
    "\n",
    "    # Predict probabilities\n",
    "    proba = model.predict_proba(features)[0]\n",
    "    print(f\"Probability of WHITE winning: {proba[1]*100:.2f}%\")\n",
    "    print(f\"Probability of BLACK winning: {proba[0]*100:.2f}%\")\n",
    "    # Predicted label\n",
    "    predicted_label = 'white' if proba[1] > proba[0] else 'black'\n",
    "    print(f\"→ Predicted winner: {predicted_label.upper()}\")\n",
    "\n",
    "else:\n",
    "    print(\"Opening not recognized.\")\n"
   ]
  },
  {
   "cell_type": "code",
   "execution_count": 15,
   "id": "4f99580b-2aa8-4c9e-8ce9-b8c30bab679d",
   "metadata": {},
   "outputs": [
    {
     "name": "stdout",
     "output_type": "stream",
     "text": [
      "Probability of WHITE winning: 50.33%\n",
      "Probability of BLACK winning: 49.67%\n",
      "→ Predicted winner: WHITE\n"
     ]
    }
   ],
   "source": [
    "# Example input\n",
    "white_rating = 2000\n",
    "black_rating = 1900\n",
    "opening_name = \"Hungarian Opening\"\n",
    "\n",
    "elo_diff_scaled = (white_rating - black_rating) / 100\n",
    "\n",
    "# Check if the opening is known\n",
    "if opening_name in opening_map:\n",
    "    opening_encoded = opening_map[opening_name]\n",
    "    features = np.array([[elo_diff_scaled, opening_encoded]])\n",
    "\n",
    "    # Predict probabilities\n",
    "    proba = model.predict_proba(features)[0]\n",
    "    print(f\"Probability of WHITE winning: {proba[1]*100:.2f}%\")\n",
    "    print(f\"Probability of BLACK winning: {proba[0]*100:.2f}%\")\n",
    "    # Predicted label\n",
    "    predicted_label = 'white' if proba[1] > proba[0] else 'black'\n",
    "    print(f\"→ Predicted winner: {predicted_label.upper()}\")\n",
    "\n",
    "else:\n",
    "    print(\"Opening not recognized.\")\n"
   ]
  },
  {
   "cell_type": "markdown",
   "id": "b1c9b76c-1841-433e-b1c8-4d5b1160c0d7",
   "metadata": {},
   "source": [
    "## Limit of the model"
   ]
  },
  {
   "cell_type": "markdown",
   "id": "c26a8cd3-a479-4175-9fd7-8bec9d4ee768",
   "metadata": {},
   "source": [
    "The model can’t predict mistakes, time pressure, etc.\n",
    "Draws were excluded.\n"
   ]
  }
 ],
 "metadata": {
  "kernelspec": {
   "display_name": "Python 3 (ipykernel)",
   "language": "python",
   "name": "python3"
  },
  "language_info": {
   "codemirror_mode": {
    "name": "ipython",
    "version": 3
   },
   "file_extension": ".py",
   "mimetype": "text/x-python",
   "name": "python",
   "nbconvert_exporter": "python",
   "pygments_lexer": "ipython3",
   "version": "3.12.2"
  }
 },
 "nbformat": 4,
 "nbformat_minor": 5
}
